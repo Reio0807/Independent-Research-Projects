{
 "cells": [
  {
   "cell_type": "code",
   "execution_count": 2,
   "id": "725e14af",
   "metadata": {},
   "outputs": [],
   "source": [
    "import pandas as pd"
   ]
  },
  {
   "cell_type": "code",
   "execution_count": 3,
   "id": "4dd9a452",
   "metadata": {},
   "outputs": [],
   "source": [
    "df_combined = pd.read_csv('combined_final.csv')\n",
    "df_original = pd.read_csv('original.csv')"
   ]
  },
  {
   "cell_type": "code",
   "execution_count": 4,
   "id": "e00970d3",
   "metadata": {},
   "outputs": [
    {
     "data": {
      "text/plain": [
       "Index(['# Child_BIRTHS_ALL_YEAR', 'MARITAL_STATUS_ALL_YEAR', 'RESID_STATE_90',\n",
       "       'AGE_90', 'EMPLOYMENT_90', 'EDUC_LEVEL_90', 'RESID_STATE_91', 'AGE_91',\n",
       "       'EMPLOYMENT_91', 'EDUC_LEVEL_91', 'RESID_STATE_92', 'AGE_92',\n",
       "       'EMPLOYMENT_92', 'EDUC_LEVEL_92', 'RESID_STATE_93', 'AGE_93',\n",
       "       'EMPLOYMENT_93', 'EDUC_LEVEL_93', 'RESID_STATE_94', 'AGE_94',\n",
       "       'EMPLOYMENT_94', 'EDUC_LEVEL_94', 'RESID_STATE_95', 'AGE_95',\n",
       "       'EMPLOYMENT_95', 'EDUC_LEVEL_95', 'RESID_STATE_96', 'AGE_96',\n",
       "       'EMPLOYMENT_96', 'EDUC_LEVEL_96', 'RESID_STATE_97', 'AGE_97',\n",
       "       'EMPLOYMENT_97', 'EDUC_LEVEL_97', 'RESID_STATE_99', 'AGE_99',\n",
       "       'EMPLOYMENT_99', 'EDUC_LEVEL_99', 'RESID_STATE_01', 'AGE_01',\n",
       "       'EMPLOYMENT_01', 'EDUC_LEVEL_01', 'RESID_STATE_03', 'AGE_03',\n",
       "       'EMPLOYMENT_03', 'EDUC_LEVEL_03', 'RESID_STATE_05', 'AGE_05',\n",
       "       'EMPLOYMENT_05', 'EDUC_LEVEL_05', 'RESID_STATE_07', 'AGE_07',\n",
       "       'EMPLOYMENT_07', 'EDUC_LEVEL_07', 'RESID_STATE_09', 'AGE_09',\n",
       "       'EMPLOYMENT_09', 'EDUC_LEVEL_09', 'RESID_STATE_11', 'AGE_11',\n",
       "       'EMPLOYMENT_11', 'EDUC_LEVEL_11', 'RESID_STATE_13', 'AGE_13',\n",
       "       'EMPLOYMENT_13', 'EDUC_LEVEL_13', 'RESID_STATE_15', 'AGE_15',\n",
       "       'EMPLOYMENT_15', 'EDUC_LEVEL_15', 'RESID_STATE_17', 'AGE_17',\n",
       "       'EMPLOYMENT_17', 'EDUC_LEVEL_17', 'RESID_STATE_19', 'AGE_19',\n",
       "       'EMPLOYMENT_19', 'EDUC_LEVEL_19'],\n",
       "      dtype='object')"
      ]
     },
     "execution_count": 4,
     "metadata": {},
     "output_type": "execute_result"
    }
   ],
   "source": [
    "df_original.columns"
   ]
  },
  {
   "cell_type": "code",
   "execution_count": 5,
   "id": "72bcf810",
   "metadata": {},
   "outputs": [
    {
     "data": {
      "text/plain": [
       "Index(['COMBINED_RESID_STATES_90TO19', 'COMBINED_AGE_90TO19',\n",
       "       'COMBINED_EMP_90TO19', 'COMBINED_EDU_90TO19'],\n",
       "      dtype='object')"
      ]
     },
     "execution_count": 5,
     "metadata": {},
     "output_type": "execute_result"
    }
   ],
   "source": [
    "df_combined.columns"
   ]
  },
  {
   "cell_type": "code",
   "execution_count": 6,
   "id": "607784ca",
   "metadata": {},
   "outputs": [],
   "source": [
    "summary_columns = [df_original['# Child_BIRTHS_ALL_YEAR'], df_combined['COMBINED_AGE_90TO19'], df_combined['COMBINED_EDU_90TO19']]"
   ]
  },
  {
   "cell_type": "code",
   "execution_count": 7,
   "id": "2ddf893b",
   "metadata": {},
   "outputs": [],
   "source": [
    "concat_summary = pd.concat(summary_columns, axis=1)"
   ]
  },
  {
   "cell_type": "code",
   "execution_count": 8,
   "id": "9656cf4b",
   "metadata": {
    "scrolled": true
   },
   "outputs": [
    {
     "data": {
      "text/html": [
       "<div>\n",
       "<style scoped>\n",
       "    .dataframe tbody tr th:only-of-type {\n",
       "        vertical-align: middle;\n",
       "    }\n",
       "\n",
       "    .dataframe tbody tr th {\n",
       "        vertical-align: top;\n",
       "    }\n",
       "\n",
       "    .dataframe thead th {\n",
       "        text-align: right;\n",
       "    }\n",
       "</style>\n",
       "<table border=\"1\" class=\"dataframe\">\n",
       "  <thead>\n",
       "    <tr style=\"text-align: right;\">\n",
       "      <th></th>\n",
       "      <th># Child_BIRTHS_ALL_YEAR</th>\n",
       "      <th>COMBINED_AGE_90TO19</th>\n",
       "      <th>COMBINED_EDU_90TO19</th>\n",
       "    </tr>\n",
       "  </thead>\n",
       "  <tbody>\n",
       "    <tr>\n",
       "      <th>0</th>\n",
       "      <td>0.0</td>\n",
       "      <td>2.0</td>\n",
       "      <td>0.0</td>\n",
       "    </tr>\n",
       "    <tr>\n",
       "      <th>1</th>\n",
       "      <td>3.0</td>\n",
       "      <td>0.0</td>\n",
       "      <td>0.0</td>\n",
       "    </tr>\n",
       "    <tr>\n",
       "      <th>2</th>\n",
       "      <td>0.0</td>\n",
       "      <td>0.0</td>\n",
       "      <td>0.0</td>\n",
       "    </tr>\n",
       "    <tr>\n",
       "      <th>3</th>\n",
       "      <td>4.0</td>\n",
       "      <td>5.0</td>\n",
       "      <td>0.0</td>\n",
       "    </tr>\n",
       "    <tr>\n",
       "      <th>4</th>\n",
       "      <td>2.0</td>\n",
       "      <td>5.0</td>\n",
       "      <td>0.0</td>\n",
       "    </tr>\n",
       "    <tr>\n",
       "      <th>...</th>\n",
       "      <td>...</td>\n",
       "      <td>...</td>\n",
       "      <td>...</td>\n",
       "    </tr>\n",
       "    <tr>\n",
       "      <th>48615</th>\n",
       "      <td>NaN</td>\n",
       "      <td>0.0</td>\n",
       "      <td>0.0</td>\n",
       "    </tr>\n",
       "    <tr>\n",
       "      <th>48616</th>\n",
       "      <td>NaN</td>\n",
       "      <td>0.0</td>\n",
       "      <td>0.0</td>\n",
       "    </tr>\n",
       "    <tr>\n",
       "      <th>48617</th>\n",
       "      <td>NaN</td>\n",
       "      <td>0.0</td>\n",
       "      <td>0.0</td>\n",
       "    </tr>\n",
       "    <tr>\n",
       "      <th>48618</th>\n",
       "      <td>NaN</td>\n",
       "      <td>0.0</td>\n",
       "      <td>0.0</td>\n",
       "    </tr>\n",
       "    <tr>\n",
       "      <th>48619</th>\n",
       "      <td>NaN</td>\n",
       "      <td>0.0</td>\n",
       "      <td>0.0</td>\n",
       "    </tr>\n",
       "  </tbody>\n",
       "</table>\n",
       "<p>48620 rows × 3 columns</p>\n",
       "</div>"
      ],
      "text/plain": [
       "       # Child_BIRTHS_ALL_YEAR  COMBINED_AGE_90TO19  COMBINED_EDU_90TO19\n",
       "0                          0.0                  2.0                  0.0\n",
       "1                          3.0                  0.0                  0.0\n",
       "2                          0.0                  0.0                  0.0\n",
       "3                          4.0                  5.0                  0.0\n",
       "4                          2.0                  5.0                  0.0\n",
       "...                        ...                  ...                  ...\n",
       "48615                      NaN                  0.0                  0.0\n",
       "48616                      NaN                  0.0                  0.0\n",
       "48617                      NaN                  0.0                  0.0\n",
       "48618                      NaN                  0.0                  0.0\n",
       "48619                      NaN                  0.0                  0.0\n",
       "\n",
       "[48620 rows x 3 columns]"
      ]
     },
     "execution_count": 8,
     "metadata": {},
     "output_type": "execute_result"
    }
   ],
   "source": [
    "concat_summary #summary of these three cols"
   ]
  },
  {
   "cell_type": "code",
   "execution_count": 9,
   "id": "7b676f8e",
   "metadata": {},
   "outputs": [],
   "source": [
    "summary_stats = concat_summary.describe(include='all')"
   ]
  },
  {
   "cell_type": "code",
   "execution_count": 10,
   "id": "e9519d57",
   "metadata": {
    "scrolled": true
   },
   "outputs": [
    {
     "name": "stdout",
     "output_type": "stream",
     "text": [
      "       # Child_BIRTHS_ALL_YEAR  COMBINED_AGE_90TO19  COMBINED_EDU_90TO19\n",
      "count              2431.000000         48620.000000         48620.000000\n",
      "mean                  0.698478             9.012814             3.100329\n",
      "std                   1.118491             9.263205             5.551830\n",
      "min                   0.000000             0.000000             0.000000\n",
      "25%                   0.000000             0.000000             0.000000\n",
      "50%                   0.000000             6.000000             0.000000\n",
      "75%                   1.000000            16.000000             0.000000\n",
      "max                   8.000000            35.000000            17.000000\n"
     ]
    }
   ],
   "source": [
    "print(summary_stats)"
   ]
  },
  {
   "cell_type": "code",
   "execution_count": 11,
   "id": "7afd6952",
   "metadata": {},
   "outputs": [],
   "source": [
    "freq_columns = [df_original['MARITAL_STATUS_ALL_YEAR'], df_combined['COMBINED_RESID_STATES_90TO19'], df_combined['COMBINED_EDU_90TO19']]"
   ]
  },
  {
   "cell_type": "code",
   "execution_count": 12,
   "id": "844e6cee",
   "metadata": {},
   "outputs": [],
   "source": [
    "concat_freq = pd.concat(freq_columns, axis=1)"
   ]
  },
  {
   "cell_type": "code",
   "execution_count": 13,
   "id": "b401f94f",
   "metadata": {},
   "outputs": [
    {
     "data": {
      "text/html": [
       "<div>\n",
       "<style scoped>\n",
       "    .dataframe tbody tr th:only-of-type {\n",
       "        vertical-align: middle;\n",
       "    }\n",
       "\n",
       "    .dataframe tbody tr th {\n",
       "        vertical-align: top;\n",
       "    }\n",
       "\n",
       "    .dataframe thead th {\n",
       "        text-align: right;\n",
       "    }\n",
       "</style>\n",
       "<table border=\"1\" class=\"dataframe\">\n",
       "  <thead>\n",
       "    <tr style=\"text-align: right;\">\n",
       "      <th></th>\n",
       "      <th>MARITAL_STATUS_ALL_YEAR</th>\n",
       "      <th>COMBINED_RESID_STATES_90TO19</th>\n",
       "      <th>COMBINED_EDU_90TO19</th>\n",
       "    </tr>\n",
       "  </thead>\n",
       "  <tbody>\n",
       "    <tr>\n",
       "      <th>0</th>\n",
       "      <td>1.0</td>\n",
       "      <td>41.0</td>\n",
       "      <td>0.0</td>\n",
       "    </tr>\n",
       "    <tr>\n",
       "      <th>1</th>\n",
       "      <td>4.0</td>\n",
       "      <td>41.0</td>\n",
       "      <td>0.0</td>\n",
       "    </tr>\n",
       "    <tr>\n",
       "      <th>2</th>\n",
       "      <td>4.0</td>\n",
       "      <td>41.0</td>\n",
       "      <td>0.0</td>\n",
       "    </tr>\n",
       "    <tr>\n",
       "      <th>3</th>\n",
       "      <td>1.0</td>\n",
       "      <td>41.0</td>\n",
       "      <td>0.0</td>\n",
       "    </tr>\n",
       "    <tr>\n",
       "      <th>4</th>\n",
       "      <td>1.0</td>\n",
       "      <td>41.0</td>\n",
       "      <td>0.0</td>\n",
       "    </tr>\n",
       "    <tr>\n",
       "      <th>...</th>\n",
       "      <td>...</td>\n",
       "      <td>...</td>\n",
       "      <td>...</td>\n",
       "    </tr>\n",
       "    <tr>\n",
       "      <th>48615</th>\n",
       "      <td>NaN</td>\n",
       "      <td>24.0</td>\n",
       "      <td>0.0</td>\n",
       "    </tr>\n",
       "    <tr>\n",
       "      <th>48616</th>\n",
       "      <td>NaN</td>\n",
       "      <td>0.0</td>\n",
       "      <td>0.0</td>\n",
       "    </tr>\n",
       "    <tr>\n",
       "      <th>48617</th>\n",
       "      <td>NaN</td>\n",
       "      <td>48.0</td>\n",
       "      <td>0.0</td>\n",
       "    </tr>\n",
       "    <tr>\n",
       "      <th>48618</th>\n",
       "      <td>NaN</td>\n",
       "      <td>48.0</td>\n",
       "      <td>0.0</td>\n",
       "    </tr>\n",
       "    <tr>\n",
       "      <th>48619</th>\n",
       "      <td>NaN</td>\n",
       "      <td>13.0</td>\n",
       "      <td>0.0</td>\n",
       "    </tr>\n",
       "  </tbody>\n",
       "</table>\n",
       "<p>48620 rows × 3 columns</p>\n",
       "</div>"
      ],
      "text/plain": [
       "       MARITAL_STATUS_ALL_YEAR  COMBINED_RESID_STATES_90TO19  \\\n",
       "0                          1.0                          41.0   \n",
       "1                          4.0                          41.0   \n",
       "2                          4.0                          41.0   \n",
       "3                          1.0                          41.0   \n",
       "4                          1.0                          41.0   \n",
       "...                        ...                           ...   \n",
       "48615                      NaN                          24.0   \n",
       "48616                      NaN                           0.0   \n",
       "48617                      NaN                          48.0   \n",
       "48618                      NaN                          48.0   \n",
       "48619                      NaN                          13.0   \n",
       "\n",
       "       COMBINED_EDU_90TO19  \n",
       "0                      0.0  \n",
       "1                      0.0  \n",
       "2                      0.0  \n",
       "3                      0.0  \n",
       "4                      0.0  \n",
       "...                    ...  \n",
       "48615                  0.0  \n",
       "48616                  0.0  \n",
       "48617                  0.0  \n",
       "48618                  0.0  \n",
       "48619                  0.0  \n",
       "\n",
       "[48620 rows x 3 columns]"
      ]
     },
     "execution_count": 13,
     "metadata": {},
     "output_type": "execute_result"
    }
   ],
   "source": [
    "concat_freq"
   ]
  },
  {
   "cell_type": "code",
   "execution_count": 14,
   "id": "dc8c3803",
   "metadata": {},
   "outputs": [],
   "source": [
    "frequency_counts_marriage = concat_freq['MARITAL_STATUS_ALL_YEAR'].value_counts(dropna=False)\n",
    "proportions = concat_freq['MARITAL_STATUS_ALL_YEAR'].value_counts(normalize=True)\n",
    "summary_table_marriage = pd.DataFrame({'Frequency': frequency_counts_marriage, 'Proportion': proportions})"
   ]
  },
  {
   "cell_type": "code",
   "execution_count": 15,
   "id": "a5ab8baf",
   "metadata": {},
   "outputs": [
    {
     "name": "stdout",
     "output_type": "stream",
     "text": [
      "     Frequency  Proportion\n",
      "0.0          4    0.001645\n",
      "1.0        466    0.191691\n",
      "2.0       1838    0.756067\n",
      "3.0          2    0.000823\n",
      "4.0         74    0.030440\n",
      "5.0         47    0.019334\n",
      "NaN      46189         NaN\n"
     ]
    }
   ],
   "source": [
    "print(summary_table_marriage) #Frequency counts for marriage status"
   ]
  },
  {
   "cell_type": "code",
   "execution_count": 16,
   "id": "fb2c0ac6",
   "metadata": {},
   "outputs": [],
   "source": [
    "frequency_counts_age = concat_freq['COMBINED_RESID_STATES_90TO19'].value_counts(dropna=False)\n",
    "proportions = concat_freq['COMBINED_RESID_STATES_90TO19'].value_counts(normalize=True)\n",
    "summary_table_age = pd.DataFrame({'Frequency': frequency_counts_age, 'Proportion': proportions})"
   ]
  },
  {
   "cell_type": "code",
   "execution_count": 17,
   "id": "3fe3b1f2",
   "metadata": {},
   "outputs": [
    {
     "name": "stdout",
     "output_type": "stream",
     "text": [
      "      Frequency  Proportion\n",
      "0.0        5185    0.106643\n",
      "6.0        3588    0.073797\n",
      "48.0       2437    0.050123\n",
      "45.0       2198    0.045208\n",
      "37.0       2135    0.043912\n",
      "39.0       2131    0.043830\n",
      "26.0       2111    0.043418\n",
      "28.0       2016    0.041464\n",
      "42.0       1749    0.035973\n",
      "24.0       1568    0.032250\n",
      "13.0       1471    0.030255\n",
      "29.0       1408    0.028959\n",
      "36.0       1361    0.027993\n",
      "12.0       1283    0.026388\n",
      "17.0       1273    0.026183\n",
      "51.0       1159    0.023838\n",
      "34.0       1123    0.023097\n",
      "18.0       1070    0.022007\n",
      "4.0        1024    0.021061\n",
      "21.0        948    0.019498\n",
      "1.0         791    0.016269\n",
      "19.0        769    0.015817\n",
      "8.0         690    0.014192\n",
      "5.0         677    0.013924\n",
      "25.0        654    0.013451\n",
      "22.0        608    0.012505\n",
      "41.0        598    0.012299\n",
      "47.0        595    0.012238\n",
      "32.0        536    0.011024\n",
      "31.0        509    0.010469\n",
      "23.0        500    0.010284\n",
      "53.0        499    0.010263\n",
      "55.0        430    0.008844\n",
      "27.0        413    0.008494\n",
      "20.0        322    0.006623\n",
      "9.0         316    0.006499\n",
      "11.0        316    0.006499\n",
      "10.0        305    0.006273\n",
      "40.0        272    0.005594\n",
      "49.0        270    0.005553\n",
      "46.0        214    0.004401\n",
      "16.0        159    0.003270\n",
      "3.0         132    0.002715\n",
      "2.0         115    0.002365\n",
      "38.0        111    0.002283\n",
      "14.0        103    0.002118\n",
      "35.0         97    0.001995\n",
      "33.0         86    0.001769\n",
      "54.0         69    0.001419\n",
      "43.0         51    0.001049\n",
      "15.0         42    0.000864\n",
      "44.0         41    0.000843\n",
      "30.0         37    0.000761\n",
      "56.0         29    0.000596\n",
      "50.0         20    0.000411\n",
      "7.0           6    0.000123\n"
     ]
    }
   ],
   "source": [
    "print(summary_table_age) #Frequency counts for individual's age between 1990 - 2019"
   ]
  },
  {
   "cell_type": "code",
   "execution_count": 18,
   "id": "625667f6",
   "metadata": {},
   "outputs": [],
   "source": [
    "frequency_counts_edu = concat_freq['COMBINED_EDU_90TO19'].value_counts(dropna=False)\n",
    "proportions = concat_freq['COMBINED_EDU_90TO19'].value_counts(normalize=True)\n",
    "summary_table_edu = pd.DataFrame({'Frequency': frequency_counts_edu, 'Proportion': proportions})"
   ]
  },
  {
   "cell_type": "code",
   "execution_count": 19,
   "id": "66c96510",
   "metadata": {},
   "outputs": [
    {
     "name": "stdout",
     "output_type": "stream",
     "text": [
      "      Frequency  Proportion\n",
      "0.0       36708    0.754998\n",
      "12.0       3446    0.070876\n",
      "11.0       1569    0.032271\n",
      "14.0       1309    0.026923\n",
      "16.0       1290    0.026532\n",
      "13.0       1249    0.025689\n",
      "10.0       1178    0.024229\n",
      "17.0        667    0.013719\n",
      "9.0         541    0.011127\n",
      "15.0        538    0.011065\n",
      "8.0          78    0.001604\n",
      "7.0          23    0.000473\n",
      "1.0          10    0.000206\n",
      "6.0          10    0.000206\n",
      "3.0           3    0.000062\n",
      "2.0           1    0.000021\n"
     ]
    }
   ],
   "source": [
    "print(summary_table_edu) #Frequency counts for individual's edu between 1990 - 2019"
   ]
  },
  {
   "cell_type": "code",
   "execution_count": null,
   "id": "6030cb2d",
   "metadata": {},
   "outputs": [],
   "source": [
    "#Convert wide data to long data"
   ]
  },
  {
   "cell_type": "code",
   "execution_count": null,
   "id": "2f4271e1",
   "metadata": {},
   "outputs": [],
   "source": []
  }
 ],
 "metadata": {
  "kernelspec": {
   "display_name": "Python 3 (ipykernel)",
   "language": "python",
   "name": "python3"
  },
  "language_info": {
   "codemirror_mode": {
    "name": "ipython",
    "version": 3
   },
   "file_extension": ".py",
   "mimetype": "text/x-python",
   "name": "python",
   "nbconvert_exporter": "python",
   "pygments_lexer": "ipython3",
   "version": "3.9.15"
  }
 },
 "nbformat": 4,
 "nbformat_minor": 5
}
