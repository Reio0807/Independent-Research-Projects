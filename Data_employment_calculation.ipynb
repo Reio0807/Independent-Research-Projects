{
 "cells": [
  {
   "cell_type": "code",
   "execution_count": 3,
   "id": "725e14af",
   "metadata": {},
   "outputs": [],
   "source": [
    "import pandas as pd"
   ]
  },
  {
   "cell_type": "code",
   "execution_count": 4,
   "id": "4dd9a452",
   "metadata": {},
   "outputs": [],
   "source": [
    "df_combined = pd.read_csv('combined_final.csv')\n",
    "df_original = pd.read_csv('original.csv')"
   ]
  },
  {
   "cell_type": "code",
   "execution_count": 5,
   "id": "e00970d3",
   "metadata": {},
   "outputs": [
    {
     "data": {
      "text/plain": [
       "Index(['# Child_BIRTHS_ALL_YEAR', 'MARITAL_STATUS_ALL_YEAR', 'RESID_STATE_90',\n",
       "       'AGE_90', 'EMPLOYMENT_90', 'EDUC_LEVEL_90', 'RESID_STATE_91', 'AGE_91',\n",
       "       'EMPLOYMENT_91', 'EDUC_LEVEL_91', 'RESID_STATE_92', 'AGE_92',\n",
       "       'EMPLOYMENT_92', 'EDUC_LEVEL_92', 'RESID_STATE_93', 'AGE_93',\n",
       "       'EMPLOYMENT_93', 'EDUC_LEVEL_93', 'RESID_STATE_94', 'AGE_94',\n",
       "       'EMPLOYMENT_94', 'EDUC_LEVEL_94', 'RESID_STATE_95', 'AGE_95',\n",
       "       'EMPLOYMENT_95', 'EDUC_LEVEL_95', 'RESID_STATE_96', 'AGE_96',\n",
       "       'EMPLOYMENT_96', 'EDUC_LEVEL_96', 'RESID_STATE_97', 'AGE_97',\n",
       "       'EMPLOYMENT_97', 'EDUC_LEVEL_97', 'RESID_STATE_99', 'AGE_99',\n",
       "       'EMPLOYMENT_99', 'EDUC_LEVEL_99', 'RESID_STATE_01', 'AGE_01',\n",
       "       'EMPLOYMENT_01', 'EDUC_LEVEL_01', 'RESID_STATE_03', 'AGE_03',\n",
       "       'EMPLOYMENT_03', 'EDUC_LEVEL_03', 'RESID_STATE_05', 'AGE_05',\n",
       "       'EMPLOYMENT_05', 'EDUC_LEVEL_05', 'RESID_STATE_07', 'AGE_07',\n",
       "       'EMPLOYMENT_07', 'EDUC_LEVEL_07', 'RESID_STATE_09', 'AGE_09',\n",
       "       'EMPLOYMENT_09', 'EDUC_LEVEL_09', 'RESID_STATE_11', 'AGE_11',\n",
       "       'EMPLOYMENT_11', 'EDUC_LEVEL_11', 'RESID_STATE_13', 'AGE_13',\n",
       "       'EMPLOYMENT_13', 'EDUC_LEVEL_13', 'RESID_STATE_15', 'AGE_15',\n",
       "       'EMPLOYMENT_15', 'EDUC_LEVEL_15', 'RESID_STATE_17', 'AGE_17',\n",
       "       'EMPLOYMENT_17', 'EDUC_LEVEL_17', 'RESID_STATE_19', 'AGE_19',\n",
       "       'EMPLOYMENT_19', 'EDUC_LEVEL_19'],\n",
       "      dtype='object')"
      ]
     },
     "execution_count": 5,
     "metadata": {},
     "output_type": "execute_result"
    }
   ],
   "source": [
    "df_original.columns"
   ]
  },
  {
   "cell_type": "code",
   "execution_count": 5,
   "id": "72bcf810",
   "metadata": {},
   "outputs": [
    {
     "data": {
      "text/html": [
       "<div>\n",
       "<style scoped>\n",
       "    .dataframe tbody tr th:only-of-type {\n",
       "        vertical-align: middle;\n",
       "    }\n",
       "\n",
       "    .dataframe tbody tr th {\n",
       "        vertical-align: top;\n",
       "    }\n",
       "\n",
       "    .dataframe thead th {\n",
       "        text-align: right;\n",
       "    }\n",
       "</style>\n",
       "<table border=\"1\" class=\"dataframe\">\n",
       "  <thead>\n",
       "    <tr style=\"text-align: right;\">\n",
       "      <th></th>\n",
       "      <th>COMBINED_RESID_STATES_90TO19</th>\n",
       "      <th>COMBINED_AGE_90TO19</th>\n",
       "      <th>COMBINED_EMP_90TO19</th>\n",
       "      <th>COMBINED_EDU_90TO19</th>\n",
       "    </tr>\n",
       "  </thead>\n",
       "  <tbody>\n",
       "    <tr>\n",
       "      <th>0</th>\n",
       "      <td>41.0</td>\n",
       "      <td>2.0</td>\n",
       "      <td>0.0</td>\n",
       "      <td>0.0</td>\n",
       "    </tr>\n",
       "    <tr>\n",
       "      <th>1</th>\n",
       "      <td>41.0</td>\n",
       "      <td>0.0</td>\n",
       "      <td>0.0</td>\n",
       "      <td>0.0</td>\n",
       "    </tr>\n",
       "    <tr>\n",
       "      <th>2</th>\n",
       "      <td>41.0</td>\n",
       "      <td>0.0</td>\n",
       "      <td>0.0</td>\n",
       "      <td>0.0</td>\n",
       "    </tr>\n",
       "    <tr>\n",
       "      <th>3</th>\n",
       "      <td>41.0</td>\n",
       "      <td>5.0</td>\n",
       "      <td>0.0</td>\n",
       "      <td>0.0</td>\n",
       "    </tr>\n",
       "    <tr>\n",
       "      <th>4</th>\n",
       "      <td>41.0</td>\n",
       "      <td>5.0</td>\n",
       "      <td>0.0</td>\n",
       "      <td>0.0</td>\n",
       "    </tr>\n",
       "    <tr>\n",
       "      <th>...</th>\n",
       "      <td>...</td>\n",
       "      <td>...</td>\n",
       "      <td>...</td>\n",
       "      <td>...</td>\n",
       "    </tr>\n",
       "    <tr>\n",
       "      <th>48615</th>\n",
       "      <td>24.0</td>\n",
       "      <td>0.0</td>\n",
       "      <td>0.0</td>\n",
       "      <td>0.0</td>\n",
       "    </tr>\n",
       "    <tr>\n",
       "      <th>48616</th>\n",
       "      <td>0.0</td>\n",
       "      <td>0.0</td>\n",
       "      <td>0.0</td>\n",
       "      <td>0.0</td>\n",
       "    </tr>\n",
       "    <tr>\n",
       "      <th>48617</th>\n",
       "      <td>48.0</td>\n",
       "      <td>0.0</td>\n",
       "      <td>0.0</td>\n",
       "      <td>0.0</td>\n",
       "    </tr>\n",
       "    <tr>\n",
       "      <th>48618</th>\n",
       "      <td>48.0</td>\n",
       "      <td>0.0</td>\n",
       "      <td>0.0</td>\n",
       "      <td>0.0</td>\n",
       "    </tr>\n",
       "    <tr>\n",
       "      <th>48619</th>\n",
       "      <td>13.0</td>\n",
       "      <td>0.0</td>\n",
       "      <td>0.0</td>\n",
       "      <td>0.0</td>\n",
       "    </tr>\n",
       "  </tbody>\n",
       "</table>\n",
       "<p>48620 rows × 4 columns</p>\n",
       "</div>"
      ],
      "text/plain": [
       "       COMBINED_RESID_STATES_90TO19  COMBINED_AGE_90TO19  COMBINED_EMP_90TO19  \\\n",
       "0                              41.0                  2.0                  0.0   \n",
       "1                              41.0                  0.0                  0.0   \n",
       "2                              41.0                  0.0                  0.0   \n",
       "3                              41.0                  5.0                  0.0   \n",
       "4                              41.0                  5.0                  0.0   \n",
       "...                             ...                  ...                  ...   \n",
       "48615                          24.0                  0.0                  0.0   \n",
       "48616                           0.0                  0.0                  0.0   \n",
       "48617                          48.0                  0.0                  0.0   \n",
       "48618                          48.0                  0.0                  0.0   \n",
       "48619                          13.0                  0.0                  0.0   \n",
       "\n",
       "       COMBINED_EDU_90TO19  \n",
       "0                      0.0  \n",
       "1                      0.0  \n",
       "2                      0.0  \n",
       "3                      0.0  \n",
       "4                      0.0  \n",
       "...                    ...  \n",
       "48615                  0.0  \n",
       "48616                  0.0  \n",
       "48617                  0.0  \n",
       "48618                  0.0  \n",
       "48619                  0.0  \n",
       "\n",
       "[48620 rows x 4 columns]"
      ]
     },
     "execution_count": 5,
     "metadata": {},
     "output_type": "execute_result"
    }
   ],
   "source": [
    "df_combined"
   ]
  },
  {
   "cell_type": "code",
   "execution_count": null,
   "id": "f4f68a50",
   "metadata": {},
   "outputs": [],
   "source": [
    "#LFPR 2001 = 0.27"
   ]
  },
  {
   "cell_type": "code",
   "execution_count": 52,
   "id": "ed8c8036",
   "metadata": {},
   "outputs": [
    {
     "name": "stdout",
     "output_type": "stream",
     "text": [
      "40\n",
      "3\n",
      "157\n"
     ]
    }
   ],
   "source": [
    "#LFPR 2001 = 0.27\n",
    "\n",
    "employed_01 = df_original['EMPLOYMENT_01'] == 1\n",
    "unemployed_01 = (df_original['EMPLOYMENT_01'] == 2) | (df_original['EMPLOYMENT_01'] == 3)\n",
    "workingPop_01 = (df_original['AGE_01'] >= 16) & (df_original['AGE_01'] < 64)\n",
    "\n",
    "count_emp_01 = employed_01.sum() #0\n",
    "count_unemp_01 = unemployed_01.sum() #0\n",
    "count_workingPop_01 = workingPop_01.sum() #0\n",
    "\n",
    "print(count_emp_01)\n",
    "print(count_unemp_01)\n",
    "print(count_workingPop_01)"
   ]
  },
  {
   "cell_type": "code",
   "execution_count": 54,
   "id": "5423f954",
   "metadata": {},
   "outputs": [
    {
     "data": {
      "text/plain": [
       "0.27388535031847133"
      ]
     },
     "execution_count": 54,
     "metadata": {},
     "output_type": "execute_result"
    }
   ],
   "source": [
    "LFP_01 = ((count_emp_01 + count_unemp_01)/count_workingPop_01)\n",
    "LFP_01"
   ]
  },
  {
   "cell_type": "code",
   "execution_count": 55,
   "id": "b5852cd7",
   "metadata": {},
   "outputs": [
    {
     "name": "stdout",
     "output_type": "stream",
     "text": [
      "117\n",
      "28\n",
      "402\n"
     ]
    }
   ],
   "source": [
    "#LFPR 2003 = 0.36\n",
    "\n",
    "employed_03 = df_original['EMPLOYMENT_03'] == 1\n",
    "unemployed_03 = (df_original['EMPLOYMENT_03'] == 2) | (df_original['EMPLOYMENT_03'] == 3)\n",
    "workingPop_03 = (df_original['AGE_03'] >= 16) & (df_original['AGE_03'] < 64)\n",
    "\n",
    "count_emp_03 = employed_03.sum() #0\n",
    "count_unemp_03 = unemployed_03.sum() #0\n",
    "count_workingPop_03 = workingPop_03.sum() #0\n",
    "\n",
    "print(count_emp_03)\n",
    "print(count_unemp_03)\n",
    "print(count_workingPop_03)"
   ]
  },
  {
   "cell_type": "code",
   "execution_count": 56,
   "id": "150bf148",
   "metadata": {},
   "outputs": [
    {
     "data": {
      "text/plain": [
       "0.36069651741293535"
      ]
     },
     "execution_count": 56,
     "metadata": {},
     "output_type": "execute_result"
    }
   ],
   "source": [
    "LFP_03 = ((count_emp_03 + count_unemp_03)/count_workingPop_03)\n",
    "LFP_03"
   ]
  },
  {
   "cell_type": "code",
   "execution_count": 57,
   "id": "8e2a597f",
   "metadata": {},
   "outputs": [
    {
     "name": "stdout",
     "output_type": "stream",
     "text": [
      "227\n",
      "59\n",
      "642\n"
     ]
    }
   ],
   "source": [
    "#LFPR 2005 = 0.44\n",
    "\n",
    "employed_05 = df_original['EMPLOYMENT_05'] == 1\n",
    "unemployed_05 = (df_original['EMPLOYMENT_05'] == 2) | (df_original['EMPLOYMENT_05'] == 3)\n",
    "workingPop_05 = (df_original['AGE_05'] >= 16) & (df_original['AGE_05'] < 64)\n",
    "\n",
    "count_emp_05 = employed_05.sum() #0\n",
    "count_unemp_05 = unemployed_05.sum() #0\n",
    "count_workingPop_05 = workingPop_05.sum() #0\n",
    "\n",
    "print(count_emp_05)\n",
    "print(count_unemp_05)\n",
    "print(count_workingPop_05)"
   ]
  },
  {
   "cell_type": "code",
   "execution_count": 58,
   "id": "d461e15c",
   "metadata": {},
   "outputs": [
    {
     "data": {
      "text/plain": [
       "0.4454828660436137"
      ]
     },
     "execution_count": 58,
     "metadata": {},
     "output_type": "execute_result"
    }
   ],
   "source": [
    "LFP_05 = ((count_emp_05 + count_unemp_05)/count_workingPop_05)\n",
    "LFP_05"
   ]
  },
  {
   "cell_type": "code",
   "execution_count": 59,
   "id": "8443c514",
   "metadata": {},
   "outputs": [
    {
     "name": "stdout",
     "output_type": "stream",
     "text": [
      "363\n",
      "103\n",
      "941\n"
     ]
    }
   ],
   "source": [
    "#LFPR 2007 = 0.50\n",
    "\n",
    "employed_07 = df_original['EMPLOYMENT_07'] == 1\n",
    "unemployed_07 = (df_original['EMPLOYMENT_07'] == 2) | (df_original['EMPLOYMENT_07'] == 3)\n",
    "workingPop_07 = (df_original['AGE_07'] >= 16) & (df_original['AGE_07'] < 64)\n",
    "\n",
    "count_emp_07 = employed_07.sum() #0\n",
    "count_unemp_07 = unemployed_07.sum() #0\n",
    "count_workingPop_07 = workingPop_07.sum() #0\n",
    "\n",
    "print(count_emp_07)\n",
    "print(count_unemp_07)\n",
    "print(count_workingPop_07)"
   ]
  },
  {
   "cell_type": "code",
   "execution_count": 60,
   "id": "21fa6baa",
   "metadata": {},
   "outputs": [
    {
     "data": {
      "text/plain": [
       "0.4952178533475027"
      ]
     },
     "execution_count": 60,
     "metadata": {},
     "output_type": "execute_result"
    }
   ],
   "source": [
    "LFP_07 = ((count_emp_07 + count_unemp_07)/count_workingPop_07)\n",
    "LFP_07"
   ]
  },
  {
   "cell_type": "code",
   "execution_count": 61,
   "id": "11e1a985",
   "metadata": {},
   "outputs": [
    {
     "name": "stdout",
     "output_type": "stream",
     "text": [
      "506\n",
      "159\n",
      "1240\n"
     ]
    }
   ],
   "source": [
    "#LFPR 2009 = 0.54\n",
    "\n",
    "employed_09 = df_original['EMPLOYMENT_09'] == 1\n",
    "unemployed_09 = (df_original['EMPLOYMENT_09'] == 2) | (df_original['EMPLOYMENT_09'] == 3)\n",
    "workingPop_09 = (df_original['AGE_09'] >= 16) & (df_original['AGE_09'] < 64)\n",
    "\n",
    "count_emp_09 = employed_09.sum() #0\n",
    "count_unemp_09 = unemployed_09.sum() #0\n",
    "count_workingPop_09 = workingPop_09.sum() #0\n",
    "\n",
    "print(count_emp_09)\n",
    "print(count_unemp_09)\n",
    "print(count_workingPop_09)"
   ]
  },
  {
   "cell_type": "code",
   "execution_count": 62,
   "id": "a5af794e",
   "metadata": {},
   "outputs": [
    {
     "data": {
      "text/plain": [
       "0.5362903225806451"
      ]
     },
     "execution_count": 62,
     "metadata": {},
     "output_type": "execute_result"
    }
   ],
   "source": [
    "LFP_09 = ((count_emp_09 + count_unemp_09)/count_workingPop_09)\n",
    "LFP_09"
   ]
  },
  {
   "cell_type": "code",
   "execution_count": 63,
   "id": "b573cc18",
   "metadata": {},
   "outputs": [
    {
     "name": "stdout",
     "output_type": "stream",
     "text": [
      "663\n",
      "238\n",
      "1484\n"
     ]
    }
   ],
   "source": [
    "#LFPR 2011 = 0.61\n",
    "\n",
    "employed_11 = df_original['EMPLOYMENT_11'] == 1\n",
    "unemployed_11 = (df_original['EMPLOYMENT_11'] == 2) | (df_original['EMPLOYMENT_11'] == 3)\n",
    "workingPop_11 = (df_original['AGE_11'] >= 16) & (df_original['AGE_11'] < 64)\n",
    "\n",
    "count_emp_11 = employed_11.sum() #0\n",
    "count_unemp_11 = unemployed_11.sum() #0\n",
    "count_workingPop_11 = workingPop_11.sum() #0\n",
    "\n",
    "print(count_emp_11)\n",
    "print(count_unemp_11)\n",
    "print(count_workingPop_11)"
   ]
  },
  {
   "cell_type": "code",
   "execution_count": 64,
   "id": "c7a0661d",
   "metadata": {},
   "outputs": [
    {
     "data": {
      "text/plain": [
       "0.6071428571428571"
      ]
     },
     "execution_count": 64,
     "metadata": {},
     "output_type": "execute_result"
    }
   ],
   "source": [
    "LFP_11 = ((count_emp_11 + count_unemp_11)/count_workingPop_11)\n",
    "LFP_11"
   ]
  },
  {
   "cell_type": "code",
   "execution_count": 65,
   "id": "3dbbd3f3",
   "metadata": {},
   "outputs": [
    {
     "name": "stdout",
     "output_type": "stream",
     "text": [
      "867\n",
      "251\n",
      "1737\n"
     ]
    }
   ],
   "source": [
    "#LFPR 2013 = 0.64\n",
    "\n",
    "employed_13 = df_original['EMPLOYMENT_13'] == 1\n",
    "unemployed_13 = (df_original['EMPLOYMENT_13'] == 2) | (df_original['EMPLOYMENT_13'] == 3)\n",
    "workingPop_13 = (df_original['AGE_13'] >= 16) & (df_original['AGE_13'] < 64)\n",
    "\n",
    "count_emp_13 = employed_13.sum() #0\n",
    "count_unemp_13 = unemployed_13.sum() #0\n",
    "count_workingPop_13 = workingPop_13.sum() #0\n",
    "\n",
    "print(count_emp_13)\n",
    "print(count_unemp_13)\n",
    "print(count_workingPop_13)"
   ]
  },
  {
   "cell_type": "code",
   "execution_count": 66,
   "id": "786c436b",
   "metadata": {},
   "outputs": [
    {
     "data": {
      "text/plain": [
       "0.6436384571099597"
      ]
     },
     "execution_count": 66,
     "metadata": {},
     "output_type": "execute_result"
    }
   ],
   "source": [
    "LFP_13 = ((count_emp_13 + count_unemp_13)/count_workingPop_13)\n",
    "LFP_13"
   ]
  },
  {
   "cell_type": "code",
   "execution_count": 67,
   "id": "5d3ce4ff",
   "metadata": {},
   "outputs": [
    {
     "name": "stdout",
     "output_type": "stream",
     "text": [
      "1077\n",
      "245\n",
      "1937\n"
     ]
    }
   ],
   "source": [
    "#LFPR 2015 = 0.68\n",
    "\n",
    "employed_15 = df_original['EMPLOYMENT_15'] == 1\n",
    "unemployed_15 = (df_original['EMPLOYMENT_15'] == 2) | (df_original['EMPLOYMENT_15'] == 3)\n",
    "workingPop_15 = (df_original['AGE_15'] >= 16) & (df_original['AGE_15'] < 64)\n",
    "\n",
    "count_emp_15 = employed_15.sum() #0\n",
    "count_unemp_15 = unemployed_15.sum() #0\n",
    "count_workingPop_15 = workingPop_15.sum() #0\n",
    "\n",
    "print(count_emp_15)\n",
    "print(count_unemp_15)\n",
    "print(count_workingPop_15)"
   ]
  },
  {
   "cell_type": "code",
   "execution_count": 68,
   "id": "3bba08b8",
   "metadata": {},
   "outputs": [
    {
     "data": {
      "text/plain": [
       "0.682498709344347"
      ]
     },
     "execution_count": 68,
     "metadata": {},
     "output_type": "execute_result"
    }
   ],
   "source": [
    "LFP_15 = ((count_emp_15 + count_unemp_15)/count_workingPop_15)\n",
    "LFP_15"
   ]
  },
  {
   "cell_type": "code",
   "execution_count": 69,
   "id": "9cdced55",
   "metadata": {},
   "outputs": [
    {
     "name": "stdout",
     "output_type": "stream",
     "text": [
      "1336\n",
      "228\n",
      "2205\n"
     ]
    }
   ],
   "source": [
    "#LFPR 2017 = 0.71\n",
    "\n",
    "employed_17 = df_original['EMPLOYMENT_17'] == 1\n",
    "unemployed_17 = (df_original['EMPLOYMENT_17'] == 2) | (df_original['EMPLOYMENT_17'] == 3)\n",
    "workingPop_17 = (df_original['AGE_17'] >= 16) & (df_original['AGE_17'] < 64)\n",
    "\n",
    "count_emp_17 = employed_17.sum() #0\n",
    "count_unemp_17 = unemployed_17.sum() #0\n",
    "count_workingPop_17 = workingPop_17.sum() #0\n",
    "\n",
    "print(count_emp_17)\n",
    "print(count_unemp_17)\n",
    "print(count_workingPop_17)"
   ]
  },
  {
   "cell_type": "code",
   "execution_count": 70,
   "id": "fe853103",
   "metadata": {},
   "outputs": [
    {
     "data": {
      "text/plain": [
       "0.709297052154195"
      ]
     },
     "execution_count": 70,
     "metadata": {},
     "output_type": "execute_result"
    }
   ],
   "source": [
    "LFP_17 = ((count_emp_17 + count_unemp_17)/count_workingPop_17)\n",
    "LFP_17"
   ]
  },
  {
   "cell_type": "code",
   "execution_count": 71,
   "id": "b4b772e3",
   "metadata": {},
   "outputs": [
    {
     "name": "stdout",
     "output_type": "stream",
     "text": [
      "1465\n",
      "213\n",
      "2220\n"
     ]
    }
   ],
   "source": [
    "#LFPR 2019 = 0.75\n",
    "\n",
    "employed_19 = df_original['EMPLOYMENT_19'] == 1\n",
    "unemployed_19 = (df_original['EMPLOYMENT_19'] == 2) | (df_original['EMPLOYMENT_19'] == 3)\n",
    "workingPop_19 = (df_original['AGE_19'] >= 16) & (df_original['AGE_19'] < 64)\n",
    "\n",
    "count_emp_19 = employed_19.sum() #0\n",
    "count_unemp_19 = unemployed_19.sum() #0\n",
    "count_workingPop_19 = workingPop_19.sum() #0\n",
    "\n",
    "print(count_emp_19)\n",
    "print(count_unemp_19)\n",
    "print(count_workingPop_19)"
   ]
  },
  {
   "cell_type": "code",
   "execution_count": 73,
   "id": "af702fd5",
   "metadata": {},
   "outputs": [
    {
     "data": {
      "text/plain": [
       "0.7558558558558559"
      ]
     },
     "execution_count": 73,
     "metadata": {},
     "output_type": "execute_result"
    }
   ],
   "source": [
    "LFP_19 = ((count_emp_19 + count_unemp_19)/count_workingPop_19)\n",
    "LFP_19"
   ]
  },
  {
   "cell_type": "code",
   "execution_count": null,
   "id": "cf2f53bf",
   "metadata": {},
   "outputs": [],
   "source": [
    "# LFP for women in Nebraska\n",
    "employed_19 = df_original['EMPLOYMENT_19'] == 1 & df_original['RESID_STATE_01'] == 1\n",
    "unemployed_19 = (df_original['EMPLOYMENT_19'] == 2) | (df_original['EMPLOYMENT_19'] == 3)\n",
    "workingPop_19 = (df_original['AGE_19'] >= 16) & (df_original['AGE_19'] < 64)\n",
    "\n",
    "count_emp_19 = employed_19.sum() #0\n",
    "count_unemp_19 = unemployed_19.sum() #0\n",
    "count_workingPop_19 = workingPop_19.sum() #0\n",
    "\n",
    "print(count_emp_19)\n",
    "print(count_unemp_19)\n",
    "print(count_workingPop_19)"
   ]
  },
  {
   "cell_type": "code",
   "execution_count": null,
   "id": "627b22ea",
   "metadata": {},
   "outputs": [],
   "source": [
    "# LFP for women in Iowa, South Dakota, Wyoming, Montana, Wisconsin, Kansas, Mississippi  "
   ]
  }
 ],
 "metadata": {
  "kernelspec": {
   "display_name": "Python 3 (ipykernel)",
   "language": "python",
   "name": "python3"
  },
  "language_info": {
   "codemirror_mode": {
    "name": "ipython",
    "version": 3
   },
   "file_extension": ".py",
   "mimetype": "text/x-python",
   "name": "python",
   "nbconvert_exporter": "python",
   "pygments_lexer": "ipython3",
   "version": "3.9.15"
  }
 },
 "nbformat": 4,
 "nbformat_minor": 5
}
